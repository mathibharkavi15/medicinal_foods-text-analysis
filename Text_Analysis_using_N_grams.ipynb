{
  "nbformat": 4,
  "nbformat_minor": 0,
  "metadata": {
    "accelerator": "TPU",
    "colab": {
      "name": "Text Analysis using N-grams",
      "provenance": [],
      "collapsed_sections": []
    },
    "kernelspec": {
      "display_name": "Python 3",
      "language": "python",
      "name": "python3"
    },
    "language_info": {
      "codemirror_mode": {
        "name": "ipython",
        "version": 3
      },
      "file_extension": ".py",
      "mimetype": "text/x-python",
      "name": "python",
      "nbconvert_exporter": "python",
      "pygments_lexer": "ipython3",
      "version": "3.7.4"
    }
  },
  "cells": [
    {
      "cell_type": "markdown",
      "metadata": {
        "id": "NuBlIqrlzJDf"
      },
      "source": [
        "# Text Analysis using N-grams\n"
      ]
    },
    {
      "cell_type": "markdown",
      "metadata": {
        "id": "SP4OqdyOuYWm"
      },
      "source": [
        "Gomathi A"
      ]
    },
    {
      "cell_type": "markdown",
      "metadata": {
        "id": "UJKQYVYmzfiA"
      },
      "source": [
        "\n",
        "\n",
        "> 1a. Import and install required libraries\n",
        "\n"
      ]
    },
    {
      "cell_type": "code",
      "metadata": {
        "colab": {
          "base_uri": "https://localhost:8080/"
        },
        "id": "9_gofWeAfBhd",
        "outputId": "993d81e6-3b0b-4a90-b15f-fe07689c3f3d"
      },
      "source": [
        "import numpy as np \n",
        "import pandas as pd \n",
        "from sklearn.model_selection import train_test_split \n",
        "\n",
        "import nltk\n",
        "from nltk.corpus import stopwords\n",
        "from nltk.classify import SklearnClassifier\n",
        "\n",
        "from wordcloud import WordCloud,STOPWORDS\n",
        "import matplotlib.pyplot as plt\n",
        "%matplotlib inline\n",
        "\n",
        "from subprocess import check_output\n",
        "#Downloading required libraries in nltk\n",
        "import nltk\n",
        "nltk.download('stopwords')\n",
        "nltk.download('averaged_perceptron_tagger')\n",
        "nltk.download('wordnet')\n",
        "nltk.download('vader_lexicon')\n",
        "nltk.download('punkt')\n",
        "\n",
        "!pip install PyDrive\n",
        "from pydrive.auth import GoogleAuth\n",
        "from pydrive.drive import GoogleDrive\n",
        "from google.colab import auth\n",
        "from oauth2client.client import GoogleCredentials\n",
        "\n",
        "# Importing necessary libraries\n",
        "import pandas as pd\n",
        "import numpy as np\n",
        "import pandas as pd\n",
        "import numpy as np\n",
        "from nltk.corpus import stopwords\n",
        "from sklearn.metrics.pairwise import linear_kernel\n",
        "from sklearn.feature_extraction.text import CountVectorizer\n",
        "from sklearn.feature_extraction.text import TfidfVectorizer\n",
        "from nltk.tokenize import RegexpTokenizer\n",
        "import re\n",
        "import string\n",
        "import random\n",
        "from PIL import Image\n",
        "import requests\n",
        "from io import BytesIO\n",
        "import matplotlib.pyplot as plt\n",
        "%matplotlib inline"
      ],
      "execution_count": null,
      "outputs": [
        {
          "output_type": "stream",
          "text": [
            "[nltk_data] Downloading package stopwords to /root/nltk_data...\n",
            "[nltk_data]   Package stopwords is already up-to-date!\n",
            "[nltk_data] Downloading package averaged_perceptron_tagger to\n",
            "[nltk_data]     /root/nltk_data...\n",
            "[nltk_data]   Package averaged_perceptron_tagger is already up-to-\n",
            "[nltk_data]       date!\n",
            "[nltk_data] Downloading package wordnet to /root/nltk_data...\n",
            "[nltk_data]   Package wordnet is already up-to-date!\n",
            "[nltk_data] Downloading package vader_lexicon to /root/nltk_data...\n",
            "[nltk_data]   Package vader_lexicon is already up-to-date!\n",
            "[nltk_data] Downloading package punkt to /root/nltk_data...\n",
            "[nltk_data]   Package punkt is already up-to-date!\n",
            "Requirement already satisfied: PyDrive in /usr/local/lib/python3.7/dist-packages (1.3.1)\n",
            "Requirement already satisfied: google-api-python-client>=1.2 in /usr/local/lib/python3.7/dist-packages (from PyDrive) (1.12.8)\n",
            "Requirement already satisfied: oauth2client>=4.0.0 in /usr/local/lib/python3.7/dist-packages (from PyDrive) (4.1.3)\n",
            "Requirement already satisfied: PyYAML>=3.0 in /usr/local/lib/python3.7/dist-packages (from PyDrive) (3.13)\n",
            "Requirement already satisfied: uritemplate<4dev,>=3.0.0 in /usr/local/lib/python3.7/dist-packages (from google-api-python-client>=1.2->PyDrive) (3.0.1)\n",
            "Requirement already satisfied: six<2dev,>=1.13.0 in /usr/local/lib/python3.7/dist-packages (from google-api-python-client>=1.2->PyDrive) (1.15.0)\n",
            "Requirement already satisfied: google-auth>=1.16.0 in /usr/local/lib/python3.7/dist-packages (from google-api-python-client>=1.2->PyDrive) (1.31.0)\n",
            "Requirement already satisfied: google-api-core<2dev,>=1.21.0 in /usr/local/lib/python3.7/dist-packages (from google-api-python-client>=1.2->PyDrive) (1.26.3)\n",
            "Requirement already satisfied: google-auth-httplib2>=0.0.3 in /usr/local/lib/python3.7/dist-packages (from google-api-python-client>=1.2->PyDrive) (0.0.4)\n",
            "Requirement already satisfied: httplib2<1dev,>=0.15.0 in /usr/local/lib/python3.7/dist-packages (from google-api-python-client>=1.2->PyDrive) (0.17.4)\n",
            "Requirement already satisfied: rsa>=3.1.4 in /usr/local/lib/python3.7/dist-packages (from oauth2client>=4.0.0->PyDrive) (4.7.2)\n",
            "Requirement already satisfied: pyasn1-modules>=0.0.5 in /usr/local/lib/python3.7/dist-packages (from oauth2client>=4.0.0->PyDrive) (0.2.8)\n",
            "Requirement already satisfied: pyasn1>=0.1.7 in /usr/local/lib/python3.7/dist-packages (from oauth2client>=4.0.0->PyDrive) (0.4.8)\n",
            "Requirement already satisfied: cachetools<5.0,>=2.0.0 in /usr/local/lib/python3.7/dist-packages (from google-auth>=1.16.0->google-api-python-client>=1.2->PyDrive) (4.2.2)\n",
            "Requirement already satisfied: setuptools>=40.3.0 in /usr/local/lib/python3.7/dist-packages (from google-auth>=1.16.0->google-api-python-client>=1.2->PyDrive) (57.0.0)\n",
            "Requirement already satisfied: protobuf>=3.12.0 in /usr/local/lib/python3.7/dist-packages (from google-api-core<2dev,>=1.21.0->google-api-python-client>=1.2->PyDrive) (3.12.4)\n",
            "Requirement already satisfied: pytz in /usr/local/lib/python3.7/dist-packages (from google-api-core<2dev,>=1.21.0->google-api-python-client>=1.2->PyDrive) (2018.9)\n",
            "Requirement already satisfied: requests<3.0.0dev,>=2.18.0 in /usr/local/lib/python3.7/dist-packages (from google-api-core<2dev,>=1.21.0->google-api-python-client>=1.2->PyDrive) (2.23.0)\n",
            "Requirement already satisfied: googleapis-common-protos<2.0dev,>=1.6.0 in /usr/local/lib/python3.7/dist-packages (from google-api-core<2dev,>=1.21.0->google-api-python-client>=1.2->PyDrive) (1.53.0)\n",
            "Requirement already satisfied: packaging>=14.3 in /usr/local/lib/python3.7/dist-packages (from google-api-core<2dev,>=1.21.0->google-api-python-client>=1.2->PyDrive) (20.9)\n",
            "Requirement already satisfied: urllib3!=1.25.0,!=1.25.1,<1.26,>=1.21.1 in /usr/local/lib/python3.7/dist-packages (from requests<3.0.0dev,>=2.18.0->google-api-core<2dev,>=1.21.0->google-api-python-client>=1.2->PyDrive) (1.24.3)\n",
            "Requirement already satisfied: idna<3,>=2.5 in /usr/local/lib/python3.7/dist-packages (from requests<3.0.0dev,>=2.18.0->google-api-core<2dev,>=1.21.0->google-api-python-client>=1.2->PyDrive) (2.10)\n",
            "Requirement already satisfied: certifi>=2017.4.17 in /usr/local/lib/python3.7/dist-packages (from requests<3.0.0dev,>=2.18.0->google-api-core<2dev,>=1.21.0->google-api-python-client>=1.2->PyDrive) (2021.5.30)\n",
            "Requirement already satisfied: chardet<4,>=3.0.2 in /usr/local/lib/python3.7/dist-packages (from requests<3.0.0dev,>=2.18.0->google-api-core<2dev,>=1.21.0->google-api-python-client>=1.2->PyDrive) (3.0.4)\n",
            "Requirement already satisfied: pyparsing>=2.0.2 in /usr/local/lib/python3.7/dist-packages (from packaging>=14.3->google-api-core<2dev,>=1.21.0->google-api-python-client>=1.2->PyDrive) (2.4.7)\n"
          ],
          "name": "stdout"
        }
      ]
    },
    {
      "cell_type": "markdown",
      "metadata": {
        "id": "5LfQDSH8zoIk"
      },
      "source": [
        "\n",
        "\n",
        "> 1b. Read input file allreviews.csv\n",
        "\n"
      ]
    },
    {
      "cell_type": "code",
      "metadata": {
        "colab": {
          "base_uri": "https://localhost:8080/",
          "height": 1000
        },
        "id": "Qnuuw06GjZXn",
        "outputId": "93963ceb-efa5-4128-8f73-b55d78209293"
      },
      "source": [
        "#Reading and displaying (few) records from allreviews.csv\n",
        "allreviews_df = pd.read_csv(\"allreviews.csv\",sep=\",\")\n",
        "allreviews_df.head(100)"
      ],
      "execution_count": null,
      "outputs": [
        {
          "output_type": "execute_result",
          "data": {
            "text/html": [
              "<div>\n",
              "<style scoped>\n",
              "    .dataframe tbody tr th:only-of-type {\n",
              "        vertical-align: middle;\n",
              "    }\n",
              "\n",
              "    .dataframe tbody tr th {\n",
              "        vertical-align: top;\n",
              "    }\n",
              "\n",
              "    .dataframe thead th {\n",
              "        text-align: right;\n",
              "    }\n",
              "</style>\n",
              "<table border=\"1\" class=\"dataframe\">\n",
              "  <thead>\n",
              "    <tr style=\"text-align: right;\">\n",
              "      <th></th>\n",
              "      <th>ASIN</th>\n",
              "      <th>ProductFlavor</th>\n",
              "      <th>ProductName</th>\n",
              "      <th>ProductNumReviews</th>\n",
              "      <th>RetrievedTime</th>\n",
              "      <th>ReviewContent</th>\n",
              "      <th>ReviewDomain</th>\n",
              "      <th>ReviewEarly</th>\n",
              "      <th>ReviewHelpful</th>\n",
              "      <th>ReviewId</th>\n",
              "      <th>ReviewLink</th>\n",
              "      <th>ReviewStar</th>\n",
              "      <th>ReviewTime</th>\n",
              "      <th>ReviewVerifiedP</th>\n",
              "      <th>ReviewVine</th>\n",
              "      <th>ReviewersId</th>\n",
              "      <th>ReviewersName</th>\n",
              "      <th>ProcessedText</th>\n",
              "      <th>VaderScore</th>\n",
              "      <th>Effectiveness</th>\n",
              "    </tr>\n",
              "  </thead>\n",
              "  <tbody>\n",
              "    <tr>\n",
              "      <th>0</th>\n",
              "      <td>B0021FEMZG</td>\n",
              "      <td>Chocolate</td>\n",
              "      <td>PlantFusion Complete Plant Based Pea Protein P...</td>\n",
              "      <td>4762</td>\n",
              "      <td>2020-07-22</td>\n",
              "      <td>Used to love this protein shake. A little bit ...</td>\n",
              "      <td>amazon.com</td>\n",
              "      <td>0</td>\n",
              "      <td>584</td>\n",
              "      <td>R24DK56XHP10W8</td>\n",
              "      <td>/gp/customer-reviews/R24DK56XHP10W8</td>\n",
              "      <td>2.0</td>\n",
              "      <td>2018-09-01</td>\n",
              "      <td>1</td>\n",
              "      <td>0</td>\n",
              "      <td>AFJ2JYCF6YCW65ZW7AV2J4YO5MIQ</td>\n",
              "      <td>arrow</td>\n",
              "      <td>use love protein shake little bite sweeter oth...</td>\n",
              "      <td>0.8494</td>\n",
              "      <td>0.0</td>\n",
              "    </tr>\n",
              "    <tr>\n",
              "      <th>1</th>\n",
              "      <td>B00I01ZXYE</td>\n",
              "      <td>Flavor_absent</td>\n",
              "      <td>ONE ORGANIC Sushi Nori Premium Roasted Organic...</td>\n",
              "      <td>955</td>\n",
              "      <td>2020-07-22</td>\n",
              "      <td>One Organic Sushi Nori, 50 sheets = https://ww...</td>\n",
              "      <td>amazon.com</td>\n",
              "      <td>0</td>\n",
              "      <td>92</td>\n",
              "      <td>R2W0O1EYHJDT25</td>\n",
              "      <td>/gp/customer-reviews/R2W0O1EYHJDT25</td>\n",
              "      <td>5.0</td>\n",
              "      <td>2016-10-09</td>\n",
              "      <td>1</td>\n",
              "      <td>0</td>\n",
              "      <td>AHLUVLLSOY2YGWT3H3BWMNB5LREQ</td>\n",
              "      <td>Daniel</td>\n",
              "      <td>one organic sushi nori sheet https www amazon ...</td>\n",
              "      <td>-0.5859</td>\n",
              "      <td>0.0</td>\n",
              "    </tr>\n",
              "    <tr>\n",
              "      <th>2</th>\n",
              "      <td>B0021FEMZG</td>\n",
              "      <td>Natural - No Stevia</td>\n",
              "      <td>PlantFusion Complete Plant Based Pea Protein P...</td>\n",
              "      <td>4762</td>\n",
              "      <td>2020-07-22</td>\n",
              "      <td>Product contains guar gum, AKA carrageenan. Lo...</td>\n",
              "      <td>amazon.com</td>\n",
              "      <td>0</td>\n",
              "      <td>376</td>\n",
              "      <td>R2M5RMJ8V2KT34</td>\n",
              "      <td>/gp/customer-reviews/R2M5RMJ8V2KT34</td>\n",
              "      <td>1.0</td>\n",
              "      <td>2018-09-01</td>\n",
              "      <td>1</td>\n",
              "      <td>0</td>\n",
              "      <td>AHJCHLZ4PJNFAGRZCNJTELPUEJGA</td>\n",
              "      <td>sam smalls</td>\n",
              "      <td>product contain guar gum aka carrageenan look ...</td>\n",
              "      <td>-0.8176</td>\n",
              "      <td>0.0</td>\n",
              "    </tr>\n",
              "    <tr>\n",
              "      <th>3</th>\n",
              "      <td>B00I01ZXYE</td>\n",
              "      <td>Flavor_absent</td>\n",
              "      <td>ONE ORGANIC Sushi Nori Premium Roasted Organic...</td>\n",
              "      <td>955</td>\n",
              "      <td>2020-07-22</td>\n",
              "      <td>If I had known this was made in China I would ...</td>\n",
              "      <td>amazon.com</td>\n",
              "      <td>0</td>\n",
              "      <td>37</td>\n",
              "      <td>R16CTB42DC89CS</td>\n",
              "      <td>/gp/customer-reviews/R16CTB42DC89CS</td>\n",
              "      <td>1.0</td>\n",
              "      <td>2019-03-04</td>\n",
              "      <td>1</td>\n",
              "      <td>0</td>\n",
              "      <td>AFRKGOJKOYKAS4HBZNMIROHY6TZQ</td>\n",
              "      <td>josephine</td>\n",
              "      <td>know make china would buy throw mine eat leave...</td>\n",
              "      <td>0.4310</td>\n",
              "      <td>0.0</td>\n",
              "    </tr>\n",
              "    <tr>\n",
              "      <th>4</th>\n",
              "      <td>B083SFBKPT</td>\n",
              "      <td>Flavor_absent</td>\n",
              "      <td>Agar Agar Powder 2oz : Gelatin Substitute, Veg...</td>\n",
              "      <td>587</td>\n",
              "      <td>2020-07-22</td>\n",
              "      <td>This was my first try with this agar-agar and ...</td>\n",
              "      <td>amazon.com</td>\n",
              "      <td>0</td>\n",
              "      <td>152</td>\n",
              "      <td>R2ZH1V4P2CQEN</td>\n",
              "      <td>/gp/customer-reviews/R2ZH1V4P2CQEN</td>\n",
              "      <td>5.0</td>\n",
              "      <td>2017-08-14</td>\n",
              "      <td>1</td>\n",
              "      <td>0</td>\n",
              "      <td>AGXFL2IGLMYHAQFPSA3PSMBD7IHA</td>\n",
              "      <td>Lisa D Ramsey</td>\n",
              "      <td>first try agar agar work great follow instruct...</td>\n",
              "      <td>0.8908</td>\n",
              "      <td>0.0</td>\n",
              "    </tr>\n",
              "    <tr>\n",
              "      <th>...</th>\n",
              "      <td>...</td>\n",
              "      <td>...</td>\n",
              "      <td>...</td>\n",
              "      <td>...</td>\n",
              "      <td>...</td>\n",
              "      <td>...</td>\n",
              "      <td>...</td>\n",
              "      <td>...</td>\n",
              "      <td>...</td>\n",
              "      <td>...</td>\n",
              "      <td>...</td>\n",
              "      <td>...</td>\n",
              "      <td>...</td>\n",
              "      <td>...</td>\n",
              "      <td>...</td>\n",
              "      <td>...</td>\n",
              "      <td>...</td>\n",
              "      <td>...</td>\n",
              "      <td>...</td>\n",
              "      <td>...</td>\n",
              "    </tr>\n",
              "    <tr>\n",
              "      <th>95</th>\n",
              "      <td>B00YQS8ED2</td>\n",
              "      <td>Berry</td>\n",
              "      <td>Country Farms Super Green Drink, Berry Flavor,...</td>\n",
              "      <td>549</td>\n",
              "      <td>2020-07-22</td>\n",
              "      <td>Item is not as advertised, does not contain th...</td>\n",
              "      <td>amazon.com</td>\n",
              "      <td>0</td>\n",
              "      <td>18</td>\n",
              "      <td>R2DL03S8BCXWB2</td>\n",
              "      <td>/gp/customer-reviews/R2DL03S8BCXWB2</td>\n",
              "      <td>1.0</td>\n",
              "      <td>2018-01-07</td>\n",
              "      <td>1</td>\n",
              "      <td>0</td>\n",
              "      <td>AH42T7OVXUBWGNTBJNFWT3UPCIFQ</td>\n",
              "      <td>Katie B</td>\n",
              "      <td>item advertise contain mushroom complex list d...</td>\n",
              "      <td>0.0000</td>\n",
              "      <td>0.0</td>\n",
              "    </tr>\n",
              "    <tr>\n",
              "      <th>96</th>\n",
              "      <td>B000MGSJ5A</td>\n",
              "      <td>Flavor_absent</td>\n",
              "      <td>NOW Foods, Agar Pure Powder, Vegetarian Substi...</td>\n",
              "      <td>463</td>\n",
              "      <td>2020-07-22</td>\n",
              "      <td>I got this since this said it's a substitute f...</td>\n",
              "      <td>amazon.com</td>\n",
              "      <td>0</td>\n",
              "      <td>1</td>\n",
              "      <td>R3XMTWN04B6AR</td>\n",
              "      <td>/gp/customer-reviews/R3XMTWN04B6AR</td>\n",
              "      <td>1.0</td>\n",
              "      <td>2020-06-21</td>\n",
              "      <td>1</td>\n",
              "      <td>0</td>\n",
              "      <td>AHYJ3G652PEBNX6DECFOREWKRV3Q</td>\n",
              "      <td>Kiran Yalasangi</td>\n",
              "      <td>get since say substitute gelatin want make man...</td>\n",
              "      <td>0.9687</td>\n",
              "      <td>0.0</td>\n",
              "    </tr>\n",
              "    <tr>\n",
              "      <th>97</th>\n",
              "      <td>B002EUZEVY</td>\n",
              "      <td>Flavor_absent</td>\n",
              "      <td>Fresh Whole Leaf Irish Moss - Raw - 16 oz</td>\n",
              "      <td>259</td>\n",
              "      <td>2020-07-22</td>\n",
              "      <td>The moss I received is from Indonesia. Has ver...</td>\n",
              "      <td>amazon.com</td>\n",
              "      <td>0</td>\n",
              "      <td>98</td>\n",
              "      <td>R11FB3181B2K0Q</td>\n",
              "      <td>/gp/customer-reviews/R11FB3181B2K0Q</td>\n",
              "      <td>1.0</td>\n",
              "      <td>2018-04-29</td>\n",
              "      <td>1</td>\n",
              "      <td>0</td>\n",
              "      <td>AHP4WPSPJGVCIV6UVSAIRV5EOOBQ</td>\n",
              "      <td>NATALYA Melnik</td>\n",
              "      <td>moss receive indonesia strong bleach smell sta...</td>\n",
              "      <td>-0.7199</td>\n",
              "      <td>0.0</td>\n",
              "    </tr>\n",
              "    <tr>\n",
              "      <th>98</th>\n",
              "      <td>B00YQS8ED2</td>\n",
              "      <td>Chocolate</td>\n",
              "      <td>Country Farms Super Green Drink, Berry Flavor,...</td>\n",
              "      <td>549</td>\n",
              "      <td>2020-07-22</td>\n",
              "      <td>I’ve been using this product for years. Unfort...</td>\n",
              "      <td>amazon.com</td>\n",
              "      <td>0</td>\n",
              "      <td>2</td>\n",
              "      <td>R3IOE7TMQJ2HG8</td>\n",
              "      <td>/gp/customer-reviews/R3IOE7TMQJ2HG8</td>\n",
              "      <td>3.0</td>\n",
              "      <td>2020-02-17</td>\n",
              "      <td>1</td>\n",
              "      <td>0</td>\n",
              "      <td>AHBULV5MOJDZPNDGJDE6LNED7XAA</td>\n",
              "      <td>DrK</td>\n",
              "      <td>use product years unfortunately certain formul...</td>\n",
              "      <td>0.8374</td>\n",
              "      <td>0.0</td>\n",
              "    </tr>\n",
              "    <tr>\n",
              "      <th>99</th>\n",
              "      <td>B000MGSJ5A</td>\n",
              "      <td>Flavor_absent</td>\n",
              "      <td>NOW Foods, Agar Pure Powder, Vegetarian Substi...</td>\n",
              "      <td>463</td>\n",
              "      <td>2020-07-22</td>\n",
              "      <td>THIS PRODUCT IS HORRRRRRRRRRRRIBLE! COMPARED T...</td>\n",
              "      <td>amazon.com</td>\n",
              "      <td>0</td>\n",
              "      <td>2</td>\n",
              "      <td>R1ZB7JFOV2XK1</td>\n",
              "      <td>/gp/customer-reviews/R1ZB7JFOV2XK1</td>\n",
              "      <td>1.0</td>\n",
              "      <td>2020-06-07</td>\n",
              "      <td>1</td>\n",
              "      <td>0</td>\n",
              "      <td>AH6MHR6K3YJECYKOEN5MOLZJUDUQ</td>\n",
              "      <td>Josh Tuner</td>\n",
              "      <td>product horrrrrrrrrrrrible compare live jin ag...</td>\n",
              "      <td>-0.6271</td>\n",
              "      <td>0.0</td>\n",
              "    </tr>\n",
              "  </tbody>\n",
              "</table>\n",
              "<p>100 rows × 20 columns</p>\n",
              "</div>"
            ],
            "text/plain": [
              "          ASIN        ProductFlavor  ... VaderScore  Effectiveness\n",
              "0   B0021FEMZG            Chocolate  ...     0.8494            0.0\n",
              "1   B00I01ZXYE        Flavor_absent  ...    -0.5859            0.0\n",
              "2   B0021FEMZG  Natural - No Stevia  ...    -0.8176            0.0\n",
              "3   B00I01ZXYE        Flavor_absent  ...     0.4310            0.0\n",
              "4   B083SFBKPT        Flavor_absent  ...     0.8908            0.0\n",
              "..         ...                  ...  ...        ...            ...\n",
              "95  B00YQS8ED2                Berry  ...     0.0000            0.0\n",
              "96  B000MGSJ5A        Flavor_absent  ...     0.9687            0.0\n",
              "97  B002EUZEVY        Flavor_absent  ...    -0.7199            0.0\n",
              "98  B00YQS8ED2            Chocolate  ...     0.8374            0.0\n",
              "99  B000MGSJ5A        Flavor_absent  ...    -0.6271            0.0\n",
              "\n",
              "[100 rows x 20 columns]"
            ]
          },
          "metadata": {
            "tags": []
          },
          "execution_count": 53
        }
      ]
    },
    {
      "cell_type": "code",
      "metadata": {
        "colab": {
          "base_uri": "https://localhost:8080/"
        },
        "id": "3Up0AjSg40uH",
        "outputId": "478a6105-e17d-4c54-c8d4-418110bf5857"
      },
      "source": [
        "#Count total number of input records\n",
        "totalcount = allreviews_df.count\n",
        "print(\"Total reviews in \", totalcount)"
      ],
      "execution_count": null,
      "outputs": [
        {
          "output_type": "stream",
          "text": [
            "Total reviews in  <bound method DataFrame.count of                                         ASIN  ... Effectiveness\n",
            "0                                 B0021FEMZG  ...           0.0\n",
            "1                                 B00I01ZXYE  ...           0.0\n",
            "2                                 B0021FEMZG  ...           0.0\n",
            "3                                 B00I01ZXYE  ...           0.0\n",
            "4                                 B083SFBKPT  ...           0.0\n",
            "...                                      ...  ...           ...\n",
            "1538794                           B07N48MTTH  ...           1.0\n",
            "1538795  B077MYP6H8?reviewerType=all_reviews  ...           0.0\n",
            "1538796                           B07N48MTTH  ...           1.0\n",
            "1538797                           B07N48MTTH  ...           0.0\n",
            "1538798                           B07N48MTTH  ...           1.0\n",
            "\n",
            "[1538799 rows x 20 columns]>\n"
          ],
          "name": "stdout"
        }
      ]
    },
    {
      "cell_type": "code",
      "metadata": {
        "colab": {
          "base_uri": "https://localhost:8080/"
        },
        "id": "5sUfVVg04zlN",
        "outputId": "0eb6b98a-49aa-40cf-a05b-c00b3272b185"
      },
      "source": [
        "#Drop duplicate records with subset \"ASIN\", \"ProductName\",\"ProductFlavor\",\"ReviewId\", \"ReviewContent\"\n",
        "allreview_df.drop_duplicates(subset=[\"ASIN\", \"ProductName\",\"ProductFlavor\",\"ReviewId\", \"ReviewContent\"], keep='first', inplace=True)\n",
        "\n",
        "#Drop empty reviews\n",
        "allreview_df.dropna(subset=['ReviewContent'], inplace=True)"
      ],
      "execution_count": null,
      "outputs": [
        {
          "output_type": "stream",
          "text": [
            "/usr/local/lib/python3.7/dist-packages/ipykernel_launcher.py:1: SettingWithCopyWarning: \n",
            "A value is trying to be set on a copy of a slice from a DataFrame\n",
            "\n",
            "See the caveats in the documentation: https://pandas.pydata.org/pandas-docs/stable/user_guide/indexing.html#returning-a-view-versus-a-copy\n",
            "  \"\"\"Entry point for launching an IPython kernel.\n",
            "/usr/local/lib/python3.7/dist-packages/ipykernel_launcher.py:3: SettingWithCopyWarning: \n",
            "A value is trying to be set on a copy of a slice from a DataFrame\n",
            "\n",
            "See the caveats in the documentation: https://pandas.pydata.org/pandas-docs/stable/user_guide/indexing.html#returning-a-view-versus-a-copy\n",
            "  This is separate from the ipykernel package so we can avoid doing imports until\n"
          ],
          "name": "stderr"
        }
      ]
    },
    {
      "cell_type": "code",
      "metadata": {
        "colab": {
          "base_uri": "https://localhost:8080/"
        },
        "id": "EoRSmnM7O8-g",
        "outputId": "23440f28-7bd1-405b-9006-52fb0fd04612"
      },
      "source": [
        "#Display total number of records in input after removing duplicates\n",
        "totalcount = allreview_df.count\n",
        "print(\"Total reviews in \", totalcount)"
      ],
      "execution_count": null,
      "outputs": [
        {
          "output_type": "stream",
          "text": [
            "Total reviews in  <bound method DataFrame.count of                                         ASIN  ...      ReviewersName\n",
            "0                                 B0021FEMZG  ...              arrow\n",
            "1                                 B00I01ZXYE  ...             Daniel\n",
            "2                                 B0021FEMZG  ...         sam smalls\n",
            "3                                 B00I01ZXYE  ...          josephine\n",
            "4                                 B083SFBKPT  ...      Lisa D Ramsey\n",
            "...                                      ...  ...                ...\n",
            "1538787  B077MYP6H8?reviewerType=all_reviews  ...    Amazon Customer\n",
            "1538789  B077MYP6H8?reviewerType=all_reviews  ...           rnorwood\n",
            "1538791  B077MYP6H8?reviewerType=all_reviews  ...    Amazon Customer\n",
            "1538793  B077MYP6H8?reviewerType=all_reviews  ...             Briana\n",
            "1538795  B077MYP6H8?reviewerType=all_reviews  ...  Clifton Park Mama\n",
            "\n",
            "[1330843 rows x 17 columns]>\n"
          ],
          "name": "stdout"
        }
      ]
    },
    {
      "cell_type": "code",
      "metadata": {
        "colab": {
          "base_uri": "https://localhost:8080/"
        },
        "id": "fZeOo9kgAMJy",
        "outputId": "261bfc88-db23-4193-8b92-044764d1f997"
      },
      "source": [
        "import string\n",
        "from nltk import pos_tag\n",
        "from nltk.corpus import stopwords\n",
        "from nltk.tokenize import WhitespaceTokenizer\n",
        "from nltk.stem import WordNetLemmatizer\n",
        "from nltk.tokenize import word_tokenize\n",
        "\n",
        "# Function to clean ReviewContent\n",
        "def clean_text(text):\n",
        "    # lower text\n",
        "    text = text.lower()\n",
        "    # tokenize text and remove puncutation\n",
        "    text = [word.strip(string.punctuation) for word in text.split(\" \")]\n",
        "    # remove words that contain numbers\n",
        "    text = [word for word in text if not any(c.isdigit() for c in word)]\n",
        "    # remove stop words\n",
        "    stop = stopwords.words('english')\n",
        "    text = [x for x in text if x not in stop]\n",
        "    # remove empty tokens\n",
        "    text = [t for t in text if len(t) > 0]\n",
        "    # lemmatize text\n",
        "    #text = [WordNetLemmatizer().lemmatize(t[0], get_wordnet_pos(t[1])) for t in pos_tags]\n",
        "    lemmatizer=WordNetLemmatizer()\n",
        "    text=[lemmatizer.lemmatize(x) for x in text]\n",
        "    # remove words with only one letter\n",
        "    text = [t for t in text if len(t) > 1]\n",
        "    # join all\n",
        "    text = \" \".join(text)\n",
        "    return(text)\n",
        "\n",
        "# clean text data\n",
        "allreview_df[\"ReviewContent_Clean\"] = allreview_df[\"ReviewContent\"].apply(lambda x: clean_text(x))"
      ],
      "execution_count": null,
      "outputs": [
        {
          "output_type": "stream",
          "text": [
            "/usr/local/lib/python3.7/dist-packages/ipykernel_launcher.py:32: SettingWithCopyWarning: \n",
            "A value is trying to be set on a copy of a slice from a DataFrame.\n",
            "Try using .loc[row_indexer,col_indexer] = value instead\n",
            "\n",
            "See the caveats in the documentation: https://pandas.pydata.org/pandas-docs/stable/user_guide/indexing.html#returning-a-view-versus-a-copy\n"
          ],
          "name": "stderr"
        }
      ]
    },
    {
      "cell_type": "code",
      "metadata": {
        "id": "A5qZSKyLPR3v"
      },
      "source": [
        "#Renaming the index column\n",
        "allreview_df.index.names = ['allreview_idx']"
      ],
      "execution_count": null,
      "outputs": []
    },
    {
      "cell_type": "code",
      "metadata": {
        "colab": {
          "base_uri": "https://localhost:8080/",
          "height": 629
        },
        "id": "Pk1pAvj0S2pu",
        "outputId": "69005522-44f6-4a00-e830-edd4298c47e6"
      },
      "source": [
        "#Display few input records\n",
        "allreview_df.head(5)"
      ],
      "execution_count": null,
      "outputs": [
        {
          "output_type": "execute_result",
          "data": {
            "text/html": [
              "<div>\n",
              "<style scoped>\n",
              "    .dataframe tbody tr th:only-of-type {\n",
              "        vertical-align: middle;\n",
              "    }\n",
              "\n",
              "    .dataframe tbody tr th {\n",
              "        vertical-align: top;\n",
              "    }\n",
              "\n",
              "    .dataframe thead th {\n",
              "        text-align: right;\n",
              "    }\n",
              "</style>\n",
              "<table border=\"1\" class=\"dataframe\">\n",
              "  <thead>\n",
              "    <tr style=\"text-align: right;\">\n",
              "      <th></th>\n",
              "      <th>ASIN</th>\n",
              "      <th>ProductFlavor</th>\n",
              "      <th>ProductName</th>\n",
              "      <th>ProductNumReviews</th>\n",
              "      <th>RetrievedTime</th>\n",
              "      <th>ReviewContent</th>\n",
              "      <th>ReviewDomain</th>\n",
              "      <th>ReviewEarly</th>\n",
              "      <th>ReviewHelpful</th>\n",
              "      <th>ReviewId</th>\n",
              "      <th>ReviewLink</th>\n",
              "      <th>ReviewStar</th>\n",
              "      <th>ReviewTime</th>\n",
              "      <th>ReviewVerifiedP</th>\n",
              "      <th>ReviewVine</th>\n",
              "      <th>ReviewersId</th>\n",
              "      <th>ReviewersName</th>\n",
              "      <th>ReviewContent_Clean</th>\n",
              "    </tr>\n",
              "    <tr>\n",
              "      <th>allreview_idx</th>\n",
              "      <th></th>\n",
              "      <th></th>\n",
              "      <th></th>\n",
              "      <th></th>\n",
              "      <th></th>\n",
              "      <th></th>\n",
              "      <th></th>\n",
              "      <th></th>\n",
              "      <th></th>\n",
              "      <th></th>\n",
              "      <th></th>\n",
              "      <th></th>\n",
              "      <th></th>\n",
              "      <th></th>\n",
              "      <th></th>\n",
              "      <th></th>\n",
              "      <th></th>\n",
              "      <th></th>\n",
              "    </tr>\n",
              "  </thead>\n",
              "  <tbody>\n",
              "    <tr>\n",
              "      <th>0</th>\n",
              "      <td>B0021FEMZG</td>\n",
              "      <td>Chocolate</td>\n",
              "      <td>PlantFusion Complete Plant Based Pea Protein P...</td>\n",
              "      <td>4762</td>\n",
              "      <td>2020-07-22</td>\n",
              "      <td>Used to love this protein shake. A little bit ...</td>\n",
              "      <td>amazon.com</td>\n",
              "      <td>0</td>\n",
              "      <td>584</td>\n",
              "      <td>R24DK56XHP10W8</td>\n",
              "      <td>/gp/customer-reviews/R24DK56XHP10W8</td>\n",
              "      <td>2.0</td>\n",
              "      <td>2018-09-01</td>\n",
              "      <td>1</td>\n",
              "      <td>0</td>\n",
              "      <td>AFJ2JYCF6YCW65ZW7AV2J4YO5MIQ</td>\n",
              "      <td>arrow</td>\n",
              "      <td>used love protein shake little bit sweeter oth...</td>\n",
              "    </tr>\n",
              "    <tr>\n",
              "      <th>1</th>\n",
              "      <td>B00I01ZXYE</td>\n",
              "      <td>Flavor_absent</td>\n",
              "      <td>ONE ORGANIC Sushi Nori Premium Roasted Organic...</td>\n",
              "      <td>955</td>\n",
              "      <td>2020-07-22</td>\n",
              "      <td>One Organic Sushi Nori, 50 sheets = https://ww...</td>\n",
              "      <td>amazon.com</td>\n",
              "      <td>0</td>\n",
              "      <td>92</td>\n",
              "      <td>R2W0O1EYHJDT25</td>\n",
              "      <td>/gp/customer-reviews/R2W0O1EYHJDT25</td>\n",
              "      <td>5.0</td>\n",
              "      <td>2016-10-09</td>\n",
              "      <td>1</td>\n",
              "      <td>0</td>\n",
              "      <td>AHLUVLLSOY2YGWT3H3BWMNB5LREQ</td>\n",
              "      <td>Daniel</td>\n",
              "      <td>one organic sushi nori sheet gold standard ama...</td>\n",
              "    </tr>\n",
              "    <tr>\n",
              "      <th>2</th>\n",
              "      <td>B0021FEMZG</td>\n",
              "      <td>Natural - No Stevia</td>\n",
              "      <td>PlantFusion Complete Plant Based Pea Protein P...</td>\n",
              "      <td>4762</td>\n",
              "      <td>2020-07-22</td>\n",
              "      <td>Product contains guar gum, AKA carrageenan. Lo...</td>\n",
              "      <td>amazon.com</td>\n",
              "      <td>0</td>\n",
              "      <td>376</td>\n",
              "      <td>R2M5RMJ8V2KT34</td>\n",
              "      <td>/gp/customer-reviews/R2M5RMJ8V2KT34</td>\n",
              "      <td>1.0</td>\n",
              "      <td>2018-09-01</td>\n",
              "      <td>1</td>\n",
              "      <td>0</td>\n",
              "      <td>AHJCHLZ4PJNFAGRZCNJTELPUEJGA</td>\n",
              "      <td>sam smalls</td>\n",
              "      <td>product contains guar gum aka carrageenan look...</td>\n",
              "    </tr>\n",
              "    <tr>\n",
              "      <th>3</th>\n",
              "      <td>B00I01ZXYE</td>\n",
              "      <td>Flavor_absent</td>\n",
              "      <td>ONE ORGANIC Sushi Nori Premium Roasted Organic...</td>\n",
              "      <td>955</td>\n",
              "      <td>2020-07-22</td>\n",
              "      <td>If I had known this was made in China I would ...</td>\n",
              "      <td>amazon.com</td>\n",
              "      <td>0</td>\n",
              "      <td>37</td>\n",
              "      <td>R16CTB42DC89CS</td>\n",
              "      <td>/gp/customer-reviews/R16CTB42DC89CS</td>\n",
              "      <td>1.0</td>\n",
              "      <td>2019-03-04</td>\n",
              "      <td>1</td>\n",
              "      <td>0</td>\n",
              "      <td>AFRKGOJKOYKAS4HBZNMIROHY6TZQ</td>\n",
              "      <td>josephine</td>\n",
              "      <td>known made china would bought threw mine eatin...</td>\n",
              "    </tr>\n",
              "    <tr>\n",
              "      <th>4</th>\n",
              "      <td>B083SFBKPT</td>\n",
              "      <td>Flavor_absent</td>\n",
              "      <td>Agar Agar Powder 2oz : Gelatin Substitute, Veg...</td>\n",
              "      <td>587</td>\n",
              "      <td>2020-07-22</td>\n",
              "      <td>This was my first try with this agar-agar and ...</td>\n",
              "      <td>amazon.com</td>\n",
              "      <td>0</td>\n",
              "      <td>152</td>\n",
              "      <td>R2ZH1V4P2CQEN</td>\n",
              "      <td>/gp/customer-reviews/R2ZH1V4P2CQEN</td>\n",
              "      <td>5.0</td>\n",
              "      <td>2017-08-14</td>\n",
              "      <td>1</td>\n",
              "      <td>0</td>\n",
              "      <td>AGXFL2IGLMYHAQFPSA3PSMBD7IHA</td>\n",
              "      <td>Lisa D Ramsey</td>\n",
              "      <td>first try agar-agar worked great follow instru...</td>\n",
              "    </tr>\n",
              "  </tbody>\n",
              "</table>\n",
              "</div>"
            ],
            "text/plain": [
              "                     ASIN  ...                                ReviewContent_Clean\n",
              "allreview_idx              ...                                                   \n",
              "0              B0021FEMZG  ...  used love protein shake little bit sweeter oth...\n",
              "1              B00I01ZXYE  ...  one organic sushi nori sheet gold standard ama...\n",
              "2              B0021FEMZG  ...  product contains guar gum aka carrageenan look...\n",
              "3              B00I01ZXYE  ...  known made china would bought threw mine eatin...\n",
              "4              B083SFBKPT  ...  first try agar-agar worked great follow instru...\n",
              "\n",
              "[5 rows x 18 columns]"
            ]
          },
          "metadata": {
            "tags": []
          },
          "execution_count": 60
        }
      ]
    },
    {
      "cell_type": "code",
      "metadata": {
        "colab": {
          "base_uri": "https://localhost:8080/",
          "height": 638
        },
        "id": "zaUKW54uPzCT",
        "outputId": "9cb84ca0-b933-45d9-f905-6e085c6fdd8b"
      },
      "source": [
        "# Calculating the word count for Review description\n",
        "allreview_df['word_count'] = allreview_df['ReviewContent_Clean'].apply(lambda x: len(str(x).split()))# Plotting the word count\n",
        "allreview_df['word_count'].plot(\n",
        "    kind='hist',\n",
        "    bins = 500,\n",
        "    figsize = (12,8),title='Word Count Distribution for Review descriptions')"
      ],
      "execution_count": null,
      "outputs": [
        {
          "output_type": "stream",
          "text": [
            "/usr/local/lib/python3.7/dist-packages/ipykernel_launcher.py:2: SettingWithCopyWarning: \n",
            "A value is trying to be set on a copy of a slice from a DataFrame.\n",
            "Try using .loc[row_indexer,col_indexer] = value instead\n",
            "\n",
            "See the caveats in the documentation: https://pandas.pydata.org/pandas-docs/stable/user_guide/indexing.html#returning-a-view-versus-a-copy\n",
            "  \n"
          ],
          "name": "stderr"
        },
        {
          "output_type": "execute_result",
          "data": {
            "text/plain": [
              "<matplotlib.axes._subplots.AxesSubplot at 0x7fa909469910>"
            ]
          },
          "metadata": {
            "tags": []
          },
          "execution_count": 9
        },
        {
          "output_type": "display_data",
          "data": {
            "image/png": "[encoded data removed]",
            "text/plain": [
              "<Figure size 864x576 with 1 Axes>"
            ]
          },
          "metadata": {
            "tags": [],
            "needs_background": "light"
          }
        }
      ]
    },
    {
      "cell_type": "code",
      "metadata": {
        "colab": {
          "base_uri": "https://localhost:8080/",
          "height": 527
        },
        "id": "nxOmJPBTPzP9",
        "outputId": "912e72b2-e1f5-44f8-b59c-c313daffe34d"
      },
      "source": [
        "#Part of speech tagging for review comments\n",
        "from textblob import TextBlob\n",
        "blob = TextBlob(str(allreview_df['ReviewContent_Clean']))\n",
        "pos_df = pd.DataFrame(blob.tags, columns = ['word' , 'pos'])\n",
        "pos_df = pos_df.pos.value_counts()[:20]\n",
        "pos_df.plot(kind = 'bar', figsize=(10, 8), title = \"Top 20 Part-of-speech tagging for comments\")"
      ],
      "execution_count": null,
      "outputs": [
        {
          "output_type": "execute_result",
          "data": {
            "text/plain": [
              "<matplotlib.axes._subplots.AxesSubplot at 0x7fa9063f31d0>"
            ]
          },
          "metadata": {
            "tags": []
          },
          "execution_count": 10
        },
        {
          "output_type": "display_data",
          "data": {
            "image/png": "[encoded data removed]",
            "text/plain": [
              "<Figure size 720x576 with 1 Axes>"
            ]
          },
          "metadata": {
            "tags": [],
            "needs_background": "light"
          }
        }
      ]
    },
    {
      "cell_type": "code",
      "metadata": {
        "colab": {
          "base_uri": "https://localhost:8080/",
          "height": 559
        },
        "id": "4yKF5QN57-VF",
        "outputId": "fe28fbac-75f8-4268-8c26-54f185dbf5fc"
      },
      "source": [
        "#Converting text descriptions into vectors using TF-IDF using Bigram\n",
        "tf = TfidfVectorizer(ngram_range=(2, 2), stop_words='english', lowercase = False)\n",
        "tfidf_matrix = tf.fit_transform(allreview_df['ReviewContent_Clean'])\n",
        "total_words = tfidf_matrix.sum(axis=0) \n",
        "#Finding the word frequency\n",
        "freq = [(word, total_words[0, idx]) for word, idx in tf.vocabulary_.items()]\n",
        "freq =sorted(freq, key = lambda x: x[1], reverse=True)\n",
        "#converting into dataframe \n",
        "bigram = pd.DataFrame(freq)\n",
        "bigram.rename(columns = {0:'bigram', 1: 'count'}, inplace = True) \n",
        "#Taking first 20 records\n",
        "bigram = bigram.head(20)\n",
        "\n",
        "#Plotting the bigram distribution\n",
        "bigram.plot(x ='bigram', y='count', kind = 'bar', title = \"Bigram disribution for the top 20 words in the review description\", figsize = (15,7), )\n"
      ],
      "execution_count": null,
      "outputs": [
        {
          "output_type": "execute_result",
          "data": {
            "text/plain": [
              "<matplotlib.axes._subplots.AxesSubplot at 0x7fa8eaa8cd50>"
            ]
          },
          "metadata": {
            "tags": []
          },
          "execution_count": 11
        },
        {
          "output_type": "display_data",
          "data": {
            "image/png": "[encoded data removed]",
            "text/plain": [
              "<Figure size 1080x504 with 1 Axes>"
            ]
          },
          "metadata": {
            "tags": [],
            "needs_background": "light"
          }
        }
      ]
    },
    {
      "cell_type": "code",
      "metadata": {
        "colab": {
          "base_uri": "https://localhost:8080/",
          "height": 600
        },
        "id": "XL8OrDeS7-bz",
        "outputId": "bd5cd90a-b80f-49f0-a7b2-078ccd91078d"
      },
      "source": [
        "#Converting text descriptions into vectors using TF-IDF using Trigram\n",
        "tf = TfidfVectorizer(ngram_range=(3, 3), stop_words='english', lowercase = False)\n",
        "tfidf_matrix = tf.fit_transform(allreview_df['ReviewContent_Clean'])\n",
        "total_words = tfidf_matrix.sum(axis=0) \n",
        "#Finding the word frequency\n",
        "freq = [(word, total_words[0, idx]) for word, idx in tf.vocabulary_.items()]\n",
        "freq =sorted(freq, key = lambda x: x[1], reverse=True)#converting into dataframe \n",
        "trigram = pd.DataFrame(freq)\n",
        "trigram.rename(columns = {0:'trigram', 1: 'count'}, inplace = True) \n",
        "#Taking first 20 records\n",
        "trigram = trigram.head(20)\n",
        "\n",
        "#Plotting the trigramn distribution\n",
        "trigram.plot(x ='trigram', y='count', kind = 'bar', title = \"Trigram disribution for the top 20 words in the review description\", figsize = (15,7), )\n"
      ],
      "execution_count": null,
      "outputs": [
        {
          "output_type": "execute_result",
          "data": {
            "text/plain": [
              "<matplotlib.axes._subplots.AxesSubplot at 0x7fa87f0c0e90>"
            ]
          },
          "metadata": {
            "tags": []
          },
          "execution_count": 12
        },
        {
          "output_type": "display_data",
          "data": {
            "image/png": "[encoded data removed]",
            "text/plain": [
              "<Figure size 1080x504 with 1 Axes>"
            ]
          },
          "metadata": {
            "tags": [],
            "needs_background": "light"
          }
        }
      ]
    },
    {
      "cell_type": "code",
      "metadata": {
        "id": "JOF9kCES7-dj",
        "colab": {
          "base_uri": "https://localhost:8080/",
          "height": 630
        },
        "outputId": "12bc50c3-4be6-4beb-a580-9c1e2234030a"
      },
      "source": [
        "#Converting text descriptions into vectors using TF-IDF using N-gram\n",
        "tf = TfidfVectorizer(ngram_range=(4, 4), stop_words='english', lowercase = False)\n",
        "tfidf_matrix = tf.fit_transform(allreview_df['ReviewContent_Clean'])\n",
        "total_words = tfidf_matrix.sum(axis=0) \n",
        "#Finding the word frequency\n",
        "freq = [(word, total_words[0, idx]) for word, idx in tf.vocabulary_.items()]\n",
        "freq =sorted(freq, key = lambda x: x[1], reverse=True)   #converting into dataframe \n",
        "ngram = pd.DataFrame(freq)\n",
        "ngram.rename(columns = {0:'ngram', 1: 'count'}, inplace = True) \n",
        "#Taking first 20 records\n",
        "ngram1 = ngram.head(20)\n",
        "\n",
        "#Plotting the n-gram distribution\n",
        "ngram1.plot(x ='ngram', y='count', kind = 'bar', title = \"N-gram disribution for the top 20 words in the review description\", figsize = (15,7), )\n"
      ],
      "execution_count": null,
      "outputs": [
        {
          "output_type": "execute_result",
          "data": {
            "text/plain": [
              "<matplotlib.axes._subplots.AxesSubplot at 0x7ff47fe52dd0>"
            ]
          },
          "metadata": {
            "tags": []
          },
          "execution_count": 9
        },
        {
          "output_type": "display_data",
          "data": {
            "image/png": "[encoded data removed]",
            "text/plain": [
              "<Figure size 1080x504 with 1 Axes>"
            ]
          },
          "metadata": {
            "tags": [],
            "needs_background": "light"
          }
        }
      ]
    }
  ]
}